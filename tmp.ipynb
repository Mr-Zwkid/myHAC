{
 "cells": [
  {
   "cell_type": "code",
   "execution_count": 1,
   "metadata": {},
   "outputs": [
    {
     "name": "stdout",
     "output_type": "stream",
     "text": [
      "tensor(12, device='cuda:3')\n"
     ]
    }
   ],
   "source": [
    "import torch\n",
    "a = torch.tensor([2, 2, 3]).cuda(3)\n",
    "print(a.prod())\n"
   ]
  }
 ],
 "metadata": {
  "kernelspec": {
   "display_name": "HAC",
   "language": "python",
   "name": "python3"
  },
  "language_info": {
   "codemirror_mode": {
    "name": "ipython",
    "version": 3
   },
   "file_extension": ".py",
   "mimetype": "text/x-python",
   "name": "python",
   "nbconvert_exporter": "python",
   "pygments_lexer": "ipython3",
   "version": "3.10.15"
  }
 },
 "nbformat": 4,
 "nbformat_minor": 2
}
